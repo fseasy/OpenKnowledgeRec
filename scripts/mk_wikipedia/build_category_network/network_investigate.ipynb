{
 "cells": [
  {
   "cell_type": "code",
   "execution_count": 1,
   "metadata": {},
   "outputs": [],
   "source": [
    "import logging\n",
    "import networkx as nx\n",
    "import tqdm\n",
    "from category_network import CategoryNetwork\n",
    "\n",
    "logging.basicConfig(level=logging.INFO)\n",
    "logger = logging.getLogger(\"network\")\n"
   ]
  },
  {
   "cell_type": "code",
   "execution_count": 10,
   "metadata": {},
   "outputs": [
    {
     "name": "stderr",
     "output_type": "stream",
     "text": [
      "INFO:network:deserialize network\n",
      "INFO:network:done\n",
      "INFO:network:build graph\n",
      "100%|██████████| 2019856/2019856 [00:08<00:00, 249159.29it/s]\n",
      "INFO:network:done\n"
     ]
    }
   ],
   "source": [
    "\n",
    "def build_graph():\n",
    "    logger.info(\"deserialize network\")\n",
    "    data_fpath = \"output/network.json\"\n",
    "    with open(data_fpath, encoding=\"utf-8\") as f:\n",
    "        data_str = f.read()\n",
    "    network = CategoryNetwork.deserialize(data_str)\n",
    "    logger.info(\"done\")\n",
    "\n",
    "    logger.info(\"build graph\")\n",
    "    g = nx.DiGraph()\n",
    "    for node in tqdm.tqdm(network.nodes()):\n",
    "        title = node.doc_title\n",
    "        parents = node.parents\n",
    "        for p in parents:\n",
    "            ptitle = p.doc_title\n",
    "            edge = (title, ptitle)\n",
    "            g.add_edge(*edge)\n",
    "    logger.info(\"done\")\n",
    "    return g\n",
    "\n",
    "g = build_graph()"
   ]
  },
  {
   "cell_type": "code",
   "execution_count": 9,
   "metadata": {},
   "outputs": [
    {
     "name": "stdout",
     "output_type": "stream",
     "text": [
      "Graph with 2019856 nodes and 4598529 edges\n",
      "2.2542824129785394e-06\n"
     ]
    }
   ],
   "source": [
    "print(nx.info(g))\n",
    "print(nx.density(g))\n"
   ]
  },
  {
   "cell_type": "markdown",
   "metadata": {},
   "source": [
    "Graph with 2,019,856 nodes and 4,598,529 edges"
   ]
  },
  {
   "cell_type": "code",
   "execution_count": 15,
   "metadata": {},
   "outputs": [
    {
     "data": {
      "text/plain": [
       "False"
      ]
     },
     "execution_count": 15,
     "metadata": {},
     "output_type": "execute_result"
    }
   ],
   "source": [
    "nx.is_directed_acyclic_graph(g)"
   ]
  },
  {
   "cell_type": "markdown",
   "metadata": {},
   "source": [
    "不是一个DAG…… 还是得手动处理下了。"
   ]
  },
  {
   "cell_type": "code",
   "execution_count": 13,
   "metadata": {},
   "outputs": [],
   "source": [
    "sg = nx.subgraph_view(g, filter_node=lambda n: nx.degree(g, n) > 1)"
   ]
  },
  {
   "cell_type": "code",
   "execution_count": 14,
   "metadata": {},
   "outputs": [
    {
     "data": {
      "text/plain": [
       "'DiGraph with 1338899 nodes and 3932409 edges'"
      ]
     },
     "execution_count": 14,
     "metadata": {},
     "output_type": "execute_result"
    }
   ],
   "source": [
    "nx.info(sg)"
   ]
  }
 ],
 "metadata": {
  "interpreter": {
   "hash": "9448f20e3370db1d937d9e903fb48f4233c33de2580994018b19e56d06aa64e4"
  },
  "kernelspec": {
   "display_name": "Python 3.8.10 64-bit ('py3': venv)",
   "language": "python",
   "name": "python3"
  },
  "language_info": {
   "codemirror_mode": {
    "name": "ipython",
    "version": 3
   },
   "file_extension": ".py",
   "mimetype": "text/x-python",
   "name": "python",
   "nbconvert_exporter": "python",
   "pygments_lexer": "ipython3",
   "version": "3.8.10"
  },
  "orig_nbformat": 4
 },
 "nbformat": 4,
 "nbformat_minor": 2
}
